{
  "nbformat": 4,
  "nbformat_minor": 0,
  "metadata": {
    "colab": {
      "name": "Zavrsni rad - Karlo Hren.ipynb",
      "provenance": [],
      "collapsed_sections": [],
      "toc_visible": true,
      "mount_file_id": "1c5dnO5O3PmvJ9p4_7slhwQnixYHUqcKv",
      "authorship_tag": "ABX9TyP/pouGxmVMwJLtIsxAyzm0",
      "include_colab_link": true
    },
    "kernelspec": {
      "name": "python3",
      "display_name": "Python 3"
    }
  },
  "cells": [
    {
      "cell_type": "markdown",
      "metadata": {
        "id": "view-in-github",
        "colab_type": "text"
      },
      "source": [
        "<a href=\"https://colab.research.google.com/github/karlex7/ANN_bitcoin_trading_bot/blob/main/Zavrsni_rad_Karlo_Hren.ipynb\" target=\"_parent\"><img src=\"https://colab.research.google.com/assets/colab-badge.svg\" alt=\"Open In Colab\"/></a>"
      ]
    },
    {
      "cell_type": "markdown",
      "metadata": {
        "id": "9CagFRIsi_ZE"
      },
      "source": [
        "# Prediction of bitcoin price movment with Artificial Neural Network"
      ]
    },
    {
      "cell_type": "code",
      "metadata": {
        "id": "XS6w8nWIjvcK"
      },
      "source": [
        "import pandas as pd\n",
        "import numpy as np\n",
        "import matplotlib.pyplot as plt\n",
        "import tensorflow as tf\n",
        "import scipy.stats as stats\n",
        "from sklearn.preprocessing import StandardScaler\n",
        "from sklearn.model_selection import train_test_split\n",
        "from sklearn.preprocessing import StandardScaler"
      ],
      "execution_count": 215,
      "outputs": []
    },
    {
      "cell_type": "markdown",
      "metadata": {
        "id": "2AVAA5-LjNXX"
      },
      "source": [
        "## 1. Data Quality Analysis"
      ]
    },
    {
      "cell_type": "code",
      "metadata": {
        "id": "alUbVDSXj6nd",
        "outputId": "c1592312-4e6f-44e8-a8da-18348e1e53f7",
        "colab": {
          "base_uri": "https://localhost:8080/",
          "height": 195
        }
      },
      "source": [
        "data = pd.read_csv('/content/drive/My Drive/Colab Notebooks/Data/BITFINEX_BTCUSD, 240.csv')\n",
        "data.head()"
      ],
      "execution_count": 216,
      "outputs": [
        {
          "output_type": "execute_result",
          "data": {
            "text/html": [
              "<div>\n",
              "<style scoped>\n",
              "    .dataframe tbody tr th:only-of-type {\n",
              "        vertical-align: middle;\n",
              "    }\n",
              "\n",
              "    .dataframe tbody tr th {\n",
              "        vertical-align: top;\n",
              "    }\n",
              "\n",
              "    .dataframe thead th {\n",
              "        text-align: right;\n",
              "    }\n",
              "</style>\n",
              "<table border=\"1\" class=\"dataframe\">\n",
              "  <thead>\n",
              "    <tr style=\"text-align: right;\">\n",
              "      <th></th>\n",
              "      <th>time</th>\n",
              "      <th>open</th>\n",
              "      <th>high</th>\n",
              "      <th>low</th>\n",
              "      <th>close</th>\n",
              "      <th>Volume</th>\n",
              "      <th>Volume MA</th>\n",
              "      <th>MA</th>\n",
              "      <th>MA.1</th>\n",
              "      <th>MA.2</th>\n",
              "      <th>MA.3</th>\n",
              "      <th>RSI</th>\n",
              "      <th>K</th>\n",
              "      <th>D</th>\n",
              "    </tr>\n",
              "  </thead>\n",
              "  <tbody>\n",
              "    <tr>\n",
              "      <th>0</th>\n",
              "      <td>2018-09-30T08:00:00Z</td>\n",
              "      <td>6584.4</td>\n",
              "      <td>6662.8</td>\n",
              "      <td>6576.000000</td>\n",
              "      <td>6631.7</td>\n",
              "      <td>NaN</td>\n",
              "      <td>NaN</td>\n",
              "      <td>6643.026619</td>\n",
              "      <td>6591.908333</td>\n",
              "      <td>6579.169969</td>\n",
              "      <td>6599.998605</td>\n",
              "      <td>54.260034</td>\n",
              "      <td>30.767330</td>\n",
              "      <td>28.144363</td>\n",
              "    </tr>\n",
              "    <tr>\n",
              "      <th>1</th>\n",
              "      <td>2018-09-30T12:00:00Z</td>\n",
              "      <td>6633.9</td>\n",
              "      <td>6658.0</td>\n",
              "      <td>6586.300000</td>\n",
              "      <td>6608.8</td>\n",
              "      <td>NaN</td>\n",
              "      <td>NaN</td>\n",
              "      <td>6641.422119</td>\n",
              "      <td>6589.572333</td>\n",
              "      <td>6591.397894</td>\n",
              "      <td>6601.758884</td>\n",
              "      <td>51.951369</td>\n",
              "      <td>42.248441</td>\n",
              "      <td>33.161281</td>\n",
              "    </tr>\n",
              "    <tr>\n",
              "      <th>2</th>\n",
              "      <td>2018-09-30T16:00:00Z</td>\n",
              "      <td>6607.4</td>\n",
              "      <td>6635.0</td>\n",
              "      <td>6589.919971</td>\n",
              "      <td>6606.0</td>\n",
              "      <td>NaN</td>\n",
              "      <td>NaN</td>\n",
              "      <td>6639.276619</td>\n",
              "      <td>6588.290333</td>\n",
              "      <td>6598.953449</td>\n",
              "      <td>6602.607107</td>\n",
              "      <td>51.661929</td>\n",
              "      <td>52.574710</td>\n",
              "      <td>41.863494</td>\n",
              "    </tr>\n",
              "    <tr>\n",
              "      <th>3</th>\n",
              "      <td>2018-09-30T20:00:00Z</td>\n",
              "      <td>6606.0</td>\n",
              "      <td>6645.0</td>\n",
              "      <td>6529.600000</td>\n",
              "      <td>6622.4</td>\n",
              "      <td>NaN</td>\n",
              "      <td>NaN</td>\n",
              "      <td>6637.119119</td>\n",
              "      <td>6586.918333</td>\n",
              "      <td>6602.553449</td>\n",
              "      <td>6606.565686</td>\n",
              "      <td>53.302977</td>\n",
              "      <td>60.988082</td>\n",
              "      <td>51.937078</td>\n",
              "    </tr>\n",
              "    <tr>\n",
              "      <th>4</th>\n",
              "      <td>2018-10-01T00:00:00Z</td>\n",
              "      <td>6622.3</td>\n",
              "      <td>6660.0</td>\n",
              "      <td>6621.800000</td>\n",
              "      <td>6645.0</td>\n",
              "      <td>NaN</td>\n",
              "      <td>NaN</td>\n",
              "      <td>6634.859119</td>\n",
              "      <td>6585.226333</td>\n",
              "      <td>6607.353449</td>\n",
              "      <td>6614.252549</td>\n",
              "      <td>55.542848</td>\n",
              "      <td>74.836135</td>\n",
              "      <td>62.799643</td>\n",
              "    </tr>\n",
              "  </tbody>\n",
              "</table>\n",
              "</div>"
            ],
            "text/plain": [
              "                   time    open    high  ...        RSI          K          D\n",
              "0  2018-09-30T08:00:00Z  6584.4  6662.8  ...  54.260034  30.767330  28.144363\n",
              "1  2018-09-30T12:00:00Z  6633.9  6658.0  ...  51.951369  42.248441  33.161281\n",
              "2  2018-09-30T16:00:00Z  6607.4  6635.0  ...  51.661929  52.574710  41.863494\n",
              "3  2018-09-30T20:00:00Z  6606.0  6645.0  ...  53.302977  60.988082  51.937078\n",
              "4  2018-10-01T00:00:00Z  6622.3  6660.0  ...  55.542848  74.836135  62.799643\n",
              "\n",
              "[5 rows x 14 columns]"
            ]
          },
          "metadata": {
            "tags": []
          },
          "execution_count": 216
        }
      ]
    },
    {
      "cell_type": "code",
      "metadata": {
        "id": "4GMENnHpkAGV",
        "outputId": "355d3b82-3881-40d2-ba1f-05d34fe537e0",
        "colab": {
          "base_uri": "https://localhost:8080/",
          "height": 34
        }
      },
      "source": [
        "data.shape"
      ],
      "execution_count": 217,
      "outputs": [
        {
          "output_type": "execute_result",
          "data": {
            "text/plain": [
              "(3591, 14)"
            ]
          },
          "metadata": {
            "tags": []
          },
          "execution_count": 217
        }
      ]
    },
    {
      "cell_type": "code",
      "metadata": {
        "id": "h-4zcIdymPnx",
        "outputId": "ecab199f-5a62-4435-d8d7-cd0b7d304346",
        "colab": {
          "base_uri": "https://localhost:8080/",
          "height": 386
        }
      },
      "source": [
        "data.info()"
      ],
      "execution_count": 218,
      "outputs": [
        {
          "output_type": "stream",
          "text": [
            "<class 'pandas.core.frame.DataFrame'>\n",
            "RangeIndex: 3591 entries, 0 to 3590\n",
            "Data columns (total 14 columns):\n",
            " #   Column     Non-Null Count  Dtype  \n",
            "---  ------     --------------  -----  \n",
            " 0   time       3591 non-null   object \n",
            " 1   open       3591 non-null   float64\n",
            " 2   high       3591 non-null   float64\n",
            " 3   low        3591 non-null   float64\n",
            " 4   close      3591 non-null   float64\n",
            " 5   Volume     0 non-null      float64\n",
            " 6   Volume MA  0 non-null      float64\n",
            " 7   MA         3591 non-null   float64\n",
            " 8   MA.1       3591 non-null   float64\n",
            " 9   MA.2       3591 non-null   float64\n",
            " 10  MA.3       3591 non-null   float64\n",
            " 11  RSI        3591 non-null   float64\n",
            " 12  K          3591 non-null   float64\n",
            " 13  D          3591 non-null   float64\n",
            "dtypes: float64(13), object(1)\n",
            "memory usage: 392.9+ KB\n"
          ],
          "name": "stdout"
        }
      ]
    },
    {
      "cell_type": "markdown",
      "metadata": {
        "id": "aKdtvzNPws6Z"
      },
      "source": [
        " 1.   time - Time of the recorded price\n",
        "\n",
        "---\n",
        "\n",
        " 2.  open - Open price\n",
        " \n",
        "---\n",
        "\n",
        "\n",
        " 3.   high - Highest price\n",
        " \n",
        "---\n",
        "\n",
        "\n",
        " 4.  low - Lowest price\n",
        " \n",
        "---\n",
        "\n",
        "\n",
        " 5.  close - Closed price\n",
        " \n",
        "---\n",
        "\n",
        "\n",
        " 6.  MA - Exponential moving average 9\n",
        " \n",
        "---\n",
        "\n",
        "\n",
        " 7.  MA.1 - Moving average 9\n",
        " \n",
        "---\n",
        "\n",
        "\n",
        " 8.  MA.2 - Moving average 50\n",
        " \n",
        "---\n",
        "\n",
        "\n",
        " 9.  MA.3 - Moving average 200\n",
        " \n",
        "---\n",
        "\n",
        "\n",
        " 10.  RSI - Relative strength index\n",
        " \n",
        "---\n",
        "\n",
        "\n",
        " 11. K - Stoch RSI K index\n",
        " \n",
        "---\n",
        "\n",
        "\n",
        " 12. D - Stoch RSI D index"
      ]
    },
    {
      "cell_type": "markdown",
      "metadata": {
        "id": "vhJzDN2JkL_y"
      },
      "source": [
        "### 1.1. Missing values"
      ]
    },
    {
      "cell_type": "code",
      "metadata": {
        "id": "_e2xXA7lkD6N",
        "outputId": "c68f1e4f-2f60-432a-8fbe-4bd88b1dd09f",
        "colab": {
          "base_uri": "https://localhost:8080/",
          "height": 281
        }
      },
      "source": [
        "data.isnull().sum()"
      ],
      "execution_count": 219,
      "outputs": [
        {
          "output_type": "execute_result",
          "data": {
            "text/plain": [
              "time            0\n",
              "open            0\n",
              "high            0\n",
              "low             0\n",
              "close           0\n",
              "Volume       3591\n",
              "Volume MA    3591\n",
              "MA              0\n",
              "MA.1            0\n",
              "MA.2            0\n",
              "MA.3            0\n",
              "RSI             0\n",
              "K               0\n",
              "D               0\n",
              "dtype: int64"
            ]
          },
          "metadata": {
            "tags": []
          },
          "execution_count": 219
        }
      ]
    },
    {
      "cell_type": "markdown",
      "metadata": {
        "id": "-cuuDIsDkYqR"
      },
      "source": [
        "Columns Volume and Volume MA contain no value so we can drop them"
      ]
    },
    {
      "cell_type": "code",
      "metadata": {
        "id": "PTxyn3S2k-pr",
        "outputId": "4dad1d6f-8beb-4c8c-dcfe-3ba2486bb1b6",
        "colab": {
          "base_uri": "https://localhost:8080/",
          "height": 195
        }
      },
      "source": [
        "data[['time', 'open', 'high', 'low', 'close', 'MA', 'MA.1', 'MA.2', 'MA.3', 'RSI', 'K', 'D']].head()"
      ],
      "execution_count": 220,
      "outputs": [
        {
          "output_type": "execute_result",
          "data": {
            "text/html": [
              "<div>\n",
              "<style scoped>\n",
              "    .dataframe tbody tr th:only-of-type {\n",
              "        vertical-align: middle;\n",
              "    }\n",
              "\n",
              "    .dataframe tbody tr th {\n",
              "        vertical-align: top;\n",
              "    }\n",
              "\n",
              "    .dataframe thead th {\n",
              "        text-align: right;\n",
              "    }\n",
              "</style>\n",
              "<table border=\"1\" class=\"dataframe\">\n",
              "  <thead>\n",
              "    <tr style=\"text-align: right;\">\n",
              "      <th></th>\n",
              "      <th>time</th>\n",
              "      <th>open</th>\n",
              "      <th>high</th>\n",
              "      <th>low</th>\n",
              "      <th>close</th>\n",
              "      <th>MA</th>\n",
              "      <th>MA.1</th>\n",
              "      <th>MA.2</th>\n",
              "      <th>MA.3</th>\n",
              "      <th>RSI</th>\n",
              "      <th>K</th>\n",
              "      <th>D</th>\n",
              "    </tr>\n",
              "  </thead>\n",
              "  <tbody>\n",
              "    <tr>\n",
              "      <th>0</th>\n",
              "      <td>2018-09-30T08:00:00Z</td>\n",
              "      <td>6584.4</td>\n",
              "      <td>6662.8</td>\n",
              "      <td>6576.000000</td>\n",
              "      <td>6631.7</td>\n",
              "      <td>6643.026619</td>\n",
              "      <td>6591.908333</td>\n",
              "      <td>6579.169969</td>\n",
              "      <td>6599.998605</td>\n",
              "      <td>54.260034</td>\n",
              "      <td>30.767330</td>\n",
              "      <td>28.144363</td>\n",
              "    </tr>\n",
              "    <tr>\n",
              "      <th>1</th>\n",
              "      <td>2018-09-30T12:00:00Z</td>\n",
              "      <td>6633.9</td>\n",
              "      <td>6658.0</td>\n",
              "      <td>6586.300000</td>\n",
              "      <td>6608.8</td>\n",
              "      <td>6641.422119</td>\n",
              "      <td>6589.572333</td>\n",
              "      <td>6591.397894</td>\n",
              "      <td>6601.758884</td>\n",
              "      <td>51.951369</td>\n",
              "      <td>42.248441</td>\n",
              "      <td>33.161281</td>\n",
              "    </tr>\n",
              "    <tr>\n",
              "      <th>2</th>\n",
              "      <td>2018-09-30T16:00:00Z</td>\n",
              "      <td>6607.4</td>\n",
              "      <td>6635.0</td>\n",
              "      <td>6589.919971</td>\n",
              "      <td>6606.0</td>\n",
              "      <td>6639.276619</td>\n",
              "      <td>6588.290333</td>\n",
              "      <td>6598.953449</td>\n",
              "      <td>6602.607107</td>\n",
              "      <td>51.661929</td>\n",
              "      <td>52.574710</td>\n",
              "      <td>41.863494</td>\n",
              "    </tr>\n",
              "    <tr>\n",
              "      <th>3</th>\n",
              "      <td>2018-09-30T20:00:00Z</td>\n",
              "      <td>6606.0</td>\n",
              "      <td>6645.0</td>\n",
              "      <td>6529.600000</td>\n",
              "      <td>6622.4</td>\n",
              "      <td>6637.119119</td>\n",
              "      <td>6586.918333</td>\n",
              "      <td>6602.553449</td>\n",
              "      <td>6606.565686</td>\n",
              "      <td>53.302977</td>\n",
              "      <td>60.988082</td>\n",
              "      <td>51.937078</td>\n",
              "    </tr>\n",
              "    <tr>\n",
              "      <th>4</th>\n",
              "      <td>2018-10-01T00:00:00Z</td>\n",
              "      <td>6622.3</td>\n",
              "      <td>6660.0</td>\n",
              "      <td>6621.800000</td>\n",
              "      <td>6645.0</td>\n",
              "      <td>6634.859119</td>\n",
              "      <td>6585.226333</td>\n",
              "      <td>6607.353449</td>\n",
              "      <td>6614.252549</td>\n",
              "      <td>55.542848</td>\n",
              "      <td>74.836135</td>\n",
              "      <td>62.799643</td>\n",
              "    </tr>\n",
              "  </tbody>\n",
              "</table>\n",
              "</div>"
            ],
            "text/plain": [
              "                   time    open    high  ...        RSI          K          D\n",
              "0  2018-09-30T08:00:00Z  6584.4  6662.8  ...  54.260034  30.767330  28.144363\n",
              "1  2018-09-30T12:00:00Z  6633.9  6658.0  ...  51.951369  42.248441  33.161281\n",
              "2  2018-09-30T16:00:00Z  6607.4  6635.0  ...  51.661929  52.574710  41.863494\n",
              "3  2018-09-30T20:00:00Z  6606.0  6645.0  ...  53.302977  60.988082  51.937078\n",
              "4  2018-10-01T00:00:00Z  6622.3  6660.0  ...  55.542848  74.836135  62.799643\n",
              "\n",
              "[5 rows x 12 columns]"
            ]
          },
          "metadata": {
            "tags": []
          },
          "execution_count": 220
        }
      ]
    },
    {
      "cell_type": "code",
      "metadata": {
        "id": "7KLHmbZGlQbH"
      },
      "source": [
        "data = data[['time', 'open', 'high', 'low', 'close', 'MA', 'MA.1', 'MA.2', 'MA.3', 'RSI', 'K', 'D']]"
      ],
      "execution_count": 221,
      "outputs": []
    },
    {
      "cell_type": "markdown",
      "metadata": {
        "id": "wdq4e-pgmCQQ"
      },
      "source": [
        "### 1.2. Extremes"
      ]
    },
    {
      "cell_type": "code",
      "metadata": {
        "id": "GEQYXB5nlzdO"
      },
      "source": [
        "def describe_data(dataset):\n",
        "    values = []\n",
        "    for col in dataset.columns:\n",
        "        values.append({\n",
        "            'Column': col,\n",
        "            'Mean': round(np.mean(dataset[col]), 2),\n",
        "            'Min': round(np.min(dataset[col]), 2),\n",
        "            'Max': round(np.max(dataset[col]), 2),\n",
        "            'Std': round(np.std(dataset[col]), 2),\n",
        "            'Max Z-Val': round(np.abs(max(stats.zscore(dataset[col]))), 2)\n",
        "        })\n",
        "    return pd.DataFrame(values)"
      ],
      "execution_count": 222,
      "outputs": []
    },
    {
      "cell_type": "code",
      "metadata": {
        "id": "AWR1Ik2SmHRM",
        "outputId": "2e5b3533-daa5-42e1-aa29-2e10aca37a80",
        "colab": {
          "base_uri": "https://localhost:8080/",
          "height": 373
        }
      },
      "source": [
        "describe_data(data.iloc[:, 1:])\n",
        "# we include every column except time"
      ],
      "execution_count": 223,
      "outputs": [
        {
          "output_type": "execute_result",
          "data": {
            "text/html": [
              "<div>\n",
              "<style scoped>\n",
              "    .dataframe tbody tr th:only-of-type {\n",
              "        vertical-align: middle;\n",
              "    }\n",
              "\n",
              "    .dataframe tbody tr th {\n",
              "        vertical-align: top;\n",
              "    }\n",
              "\n",
              "    .dataframe thead th {\n",
              "        text-align: right;\n",
              "    }\n",
              "</style>\n",
              "<table border=\"1\" class=\"dataframe\">\n",
              "  <thead>\n",
              "    <tr style=\"text-align: right;\">\n",
              "      <th></th>\n",
              "      <th>Column</th>\n",
              "      <th>Mean</th>\n",
              "      <th>Min</th>\n",
              "      <th>Max</th>\n",
              "      <th>Std</th>\n",
              "      <th>Max Z-Val</th>\n",
              "    </tr>\n",
              "  </thead>\n",
              "  <tbody>\n",
              "    <tr>\n",
              "      <th>0</th>\n",
              "      <td>open</td>\n",
              "      <td>7256.42</td>\n",
              "      <td>3229.76</td>\n",
              "      <td>13729.00</td>\n",
              "      <td>2377.40</td>\n",
              "      <td>2.72</td>\n",
              "    </tr>\n",
              "    <tr>\n",
              "      <th>1</th>\n",
              "      <td>high</td>\n",
              "      <td>7328.44</td>\n",
              "      <td>3269.50</td>\n",
              "      <td>13764.00</td>\n",
              "      <td>2406.06</td>\n",
              "      <td>2.67</td>\n",
              "    </tr>\n",
              "    <tr>\n",
              "      <th>2</th>\n",
              "      <td>low</td>\n",
              "      <td>7179.54</td>\n",
              "      <td>3215.20</td>\n",
              "      <td>12833.00</td>\n",
              "      <td>2343.94</td>\n",
              "      <td>2.41</td>\n",
              "    </tr>\n",
              "    <tr>\n",
              "      <th>3</th>\n",
              "      <td>close</td>\n",
              "      <td>7257.17</td>\n",
              "      <td>3229.80</td>\n",
              "      <td>13728.00</td>\n",
              "      <td>2377.63</td>\n",
              "      <td>2.72</td>\n",
              "    </tr>\n",
              "    <tr>\n",
              "      <th>4</th>\n",
              "      <td>MA</td>\n",
              "      <td>7187.70</td>\n",
              "      <td>3606.52</td>\n",
              "      <td>11089.76</td>\n",
              "      <td>2249.59</td>\n",
              "      <td>1.73</td>\n",
              "    </tr>\n",
              "    <tr>\n",
              "      <th>5</th>\n",
              "      <td>MA.1</td>\n",
              "      <td>7236.58</td>\n",
              "      <td>3430.32</td>\n",
              "      <td>11759.84</td>\n",
              "      <td>2343.79</td>\n",
              "      <td>1.93</td>\n",
              "    </tr>\n",
              "    <tr>\n",
              "      <th>6</th>\n",
              "      <td>MA.2</td>\n",
              "      <td>7253.80</td>\n",
              "      <td>3281.61</td>\n",
              "      <td>12656.68</td>\n",
              "      <td>2371.73</td>\n",
              "      <td>2.28</td>\n",
              "    </tr>\n",
              "    <tr>\n",
              "      <th>7</th>\n",
              "      <td>MA.3</td>\n",
              "      <td>7253.81</td>\n",
              "      <td>3292.24</td>\n",
              "      <td>12625.03</td>\n",
              "      <td>2369.37</td>\n",
              "      <td>2.27</td>\n",
              "    </tr>\n",
              "    <tr>\n",
              "      <th>8</th>\n",
              "      <td>RSI</td>\n",
              "      <td>50.79</td>\n",
              "      <td>8.60</td>\n",
              "      <td>92.87</td>\n",
              "      <td>13.84</td>\n",
              "      <td>3.04</td>\n",
              "    </tr>\n",
              "    <tr>\n",
              "      <th>9</th>\n",
              "      <td>K</td>\n",
              "      <td>49.27</td>\n",
              "      <td>0.00</td>\n",
              "      <td>100.00</td>\n",
              "      <td>33.02</td>\n",
              "      <td>1.54</td>\n",
              "    </tr>\n",
              "    <tr>\n",
              "      <th>10</th>\n",
              "      <td>D</td>\n",
              "      <td>49.27</td>\n",
              "      <td>0.00</td>\n",
              "      <td>100.00</td>\n",
              "      <td>31.75</td>\n",
              "      <td>1.60</td>\n",
              "    </tr>\n",
              "  </tbody>\n",
              "</table>\n",
              "</div>"
            ],
            "text/plain": [
              "   Column     Mean      Min       Max      Std  Max Z-Val\n",
              "0    open  7256.42  3229.76  13729.00  2377.40       2.72\n",
              "1    high  7328.44  3269.50  13764.00  2406.06       2.67\n",
              "2     low  7179.54  3215.20  12833.00  2343.94       2.41\n",
              "3   close  7257.17  3229.80  13728.00  2377.63       2.72\n",
              "4      MA  7187.70  3606.52  11089.76  2249.59       1.73\n",
              "5    MA.1  7236.58  3430.32  11759.84  2343.79       1.93\n",
              "6    MA.2  7253.80  3281.61  12656.68  2371.73       2.28\n",
              "7    MA.3  7253.81  3292.24  12625.03  2369.37       2.27\n",
              "8     RSI    50.79     8.60     92.87    13.84       3.04\n",
              "9       K    49.27     0.00    100.00    33.02       1.54\n",
              "10      D    49.27     0.00    100.00    31.75       1.60"
            ]
          },
          "metadata": {
            "tags": []
          },
          "execution_count": 223
        }
      ]
    },
    {
      "cell_type": "markdown",
      "metadata": {
        "id": "UcNoaZ2BnPnd"
      },
      "source": [
        "Kolona RSI nam ima najveci Z-score, ona nam oznacava tehnicki indokator"
      ]
    },
    {
      "cell_type": "markdown",
      "metadata": {
        "id": "91AIwADznavV"
      },
      "source": [
        "### 1.3. Distribution of each variable"
      ]
    },
    {
      "cell_type": "code",
      "metadata": {
        "id": "uItZ8Yr5oPQY",
        "outputId": "2a872b42-c734-4623-f331-a162171811f4",
        "colab": {
          "base_uri": "https://localhost:8080/",
          "height": 1000
        }
      },
      "source": [
        "data.hist(bins=15, figsize=(20, 15));"
      ],
      "execution_count": 224,
      "outputs": [
        {
          "output_type": "display_data",
          "data": {
            "image/png": "[encoded data removed]",
            "text/plain": [
              "<Figure size 2000x1500 with 12 Axes>"
            ]
          },
          "metadata": {
            "tags": []
          }
        }
      ]
    },
    {
      "cell_type": "markdown",
      "metadata": {
        "id": "MbNSwPy0pEb2"
      },
      "source": [
        "Open, High, Low and Close are vary similar"
      ]
    },
    {
      "cell_type": "markdown",
      "metadata": {
        "id": "Fwk8uBLKrqfK"
      },
      "source": [
        "## 2. Univariat Analysis"
      ]
    },
    {
      "cell_type": "code",
      "metadata": {
        "id": "6vxdORILp2Ah",
        "outputId": "698dc667-963c-4aff-b0a8-24e8d34a3742",
        "colab": {
          "base_uri": "https://localhost:8080/",
          "height": 284
        }
      },
      "source": [
        "data.describe()"
      ],
      "execution_count": 225,
      "outputs": [
        {
          "output_type": "execute_result",
          "data": {
            "text/html": [
              "<div>\n",
              "<style scoped>\n",
              "    .dataframe tbody tr th:only-of-type {\n",
              "        vertical-align: middle;\n",
              "    }\n",
              "\n",
              "    .dataframe tbody tr th {\n",
              "        vertical-align: top;\n",
              "    }\n",
              "\n",
              "    .dataframe thead th {\n",
              "        text-align: right;\n",
              "    }\n",
              "</style>\n",
              "<table border=\"1\" class=\"dataframe\">\n",
              "  <thead>\n",
              "    <tr style=\"text-align: right;\">\n",
              "      <th></th>\n",
              "      <th>open</th>\n",
              "      <th>high</th>\n",
              "      <th>low</th>\n",
              "      <th>close</th>\n",
              "      <th>MA</th>\n",
              "      <th>MA.1</th>\n",
              "      <th>MA.2</th>\n",
              "      <th>MA.3</th>\n",
              "      <th>RSI</th>\n",
              "      <th>K</th>\n",
              "      <th>D</th>\n",
              "    </tr>\n",
              "  </thead>\n",
              "  <tbody>\n",
              "    <tr>\n",
              "      <th>count</th>\n",
              "      <td>3591.000000</td>\n",
              "      <td>3591.000000</td>\n",
              "      <td>3591.000000</td>\n",
              "      <td>3591.000000</td>\n",
              "      <td>3591.000000</td>\n",
              "      <td>3591.000000</td>\n",
              "      <td>3591.000000</td>\n",
              "      <td>3591.000000</td>\n",
              "      <td>3591.000000</td>\n",
              "      <td>3591.000000</td>\n",
              "      <td>3591.000000</td>\n",
              "    </tr>\n",
              "    <tr>\n",
              "      <th>mean</th>\n",
              "      <td>7256.422586</td>\n",
              "      <td>7328.439361</td>\n",
              "      <td>7179.537046</td>\n",
              "      <td>7257.168714</td>\n",
              "      <td>7187.703203</td>\n",
              "      <td>7236.580709</td>\n",
              "      <td>7253.798060</td>\n",
              "      <td>7253.805382</td>\n",
              "      <td>50.787205</td>\n",
              "      <td>49.270664</td>\n",
              "      <td>49.270394</td>\n",
              "    </tr>\n",
              "    <tr>\n",
              "      <th>std</th>\n",
              "      <td>2377.729186</td>\n",
              "      <td>2406.393614</td>\n",
              "      <td>2344.268054</td>\n",
              "      <td>2377.964278</td>\n",
              "      <td>2249.900625</td>\n",
              "      <td>2344.113297</td>\n",
              "      <td>2372.055545</td>\n",
              "      <td>2369.700924</td>\n",
              "      <td>13.841571</td>\n",
              "      <td>33.028181</td>\n",
              "      <td>31.758930</td>\n",
              "    </tr>\n",
              "    <tr>\n",
              "      <th>min</th>\n",
              "      <td>3229.757472</td>\n",
              "      <td>3269.500000</td>\n",
              "      <td>3215.200000</td>\n",
              "      <td>3229.800000</td>\n",
              "      <td>3606.515430</td>\n",
              "      <td>3430.315938</td>\n",
              "      <td>3281.614525</td>\n",
              "      <td>3292.238637</td>\n",
              "      <td>8.603634</td>\n",
              "      <td>0.000000</td>\n",
              "      <td>0.000000</td>\n",
              "    </tr>\n",
              "    <tr>\n",
              "      <th>25%</th>\n",
              "      <td>5256.950000</td>\n",
              "      <td>5311.875181</td>\n",
              "      <td>5189.300000</td>\n",
              "      <td>5256.945656</td>\n",
              "      <td>5268.359596</td>\n",
              "      <td>5227.690881</td>\n",
              "      <td>5257.272317</td>\n",
              "      <td>5255.087239</td>\n",
              "      <td>41.647610</td>\n",
              "      <td>17.858526</td>\n",
              "      <td>19.260135</td>\n",
              "    </tr>\n",
              "    <tr>\n",
              "      <th>50%</th>\n",
              "      <td>7367.100000</td>\n",
              "      <td>7436.900000</td>\n",
              "      <td>7306.200000</td>\n",
              "      <td>7367.923467</td>\n",
              "      <td>7334.541018</td>\n",
              "      <td>7353.451875</td>\n",
              "      <td>7366.636422</td>\n",
              "      <td>7374.241616</td>\n",
              "      <td>50.689854</td>\n",
              "      <td>47.872668</td>\n",
              "      <td>48.160948</td>\n",
              "    </tr>\n",
              "    <tr>\n",
              "      <th>75%</th>\n",
              "      <td>9164.189882</td>\n",
              "      <td>9244.150000</td>\n",
              "      <td>9089.778888</td>\n",
              "      <td>9165.850000</td>\n",
              "      <td>8805.601551</td>\n",
              "      <td>9091.230920</td>\n",
              "      <td>9167.173636</td>\n",
              "      <td>9150.066760</td>\n",
              "      <td>60.172043</td>\n",
              "      <td>80.969780</td>\n",
              "      <td>79.870001</td>\n",
              "    </tr>\n",
              "    <tr>\n",
              "      <th>max</th>\n",
              "      <td>13729.000000</td>\n",
              "      <td>13764.000000</td>\n",
              "      <td>12833.000000</td>\n",
              "      <td>13728.000000</td>\n",
              "      <td>11089.764778</td>\n",
              "      <td>11759.839517</td>\n",
              "      <td>12656.682992</td>\n",
              "      <td>12625.026533</td>\n",
              "      <td>92.868197</td>\n",
              "      <td>100.000000</td>\n",
              "      <td>100.000000</td>\n",
              "    </tr>\n",
              "  </tbody>\n",
              "</table>\n",
              "</div>"
            ],
            "text/plain": [
              "               open          high  ...            K            D\n",
              "count   3591.000000   3591.000000  ...  3591.000000  3591.000000\n",
              "mean    7256.422586   7328.439361  ...    49.270664    49.270394\n",
              "std     2377.729186   2406.393614  ...    33.028181    31.758930\n",
              "min     3229.757472   3269.500000  ...     0.000000     0.000000\n",
              "25%     5256.950000   5311.875181  ...    17.858526    19.260135\n",
              "50%     7367.100000   7436.900000  ...    47.872668    48.160948\n",
              "75%     9164.189882   9244.150000  ...    80.969780    79.870001\n",
              "max    13729.000000  13764.000000  ...   100.000000   100.000000\n",
              "\n",
              "[8 rows x 11 columns]"
            ]
          },
          "metadata": {
            "tags": []
          },
          "execution_count": 225
        }
      ]
    },
    {
      "cell_type": "markdown",
      "metadata": {
        "id": "wdwGT3qS2LvK"
      },
      "source": [
        "### 2.1. Data skewnes"
      ]
    },
    {
      "cell_type": "code",
      "metadata": {
        "id": "Kmpu82eqs8E7"
      },
      "source": [
        "def skewnes_for_data(data):\n",
        "  for col in data:\n",
        "    skewnes = round(data[col].skew(), 2)\n",
        "    print(col, '\\t', skewnes)"
      ],
      "execution_count": 226,
      "outputs": []
    },
    {
      "cell_type": "code",
      "metadata": {
        "id": "A3KQfttotfPZ",
        "outputId": "b16851cd-ab45-429b-9639-b31d8505d3dc",
        "colab": {
          "base_uri": "https://localhost:8080/",
          "height": 210
        }
      },
      "source": [
        "skewnes_for_data(data.iloc[:, 1:])"
      ],
      "execution_count": 227,
      "outputs": [
        {
          "output_type": "stream",
          "text": [
            "open \t -0.05\n",
            "high \t -0.04\n",
            "low \t -0.07\n",
            "close \t -0.05\n",
            "MA \t -0.12\n",
            "MA.1 \t -0.08\n",
            "MA.2 \t -0.06\n",
            "MA.3 \t -0.06\n",
            "RSI \t 0.01\n",
            "K \t 0.06\n",
            "D \t 0.07\n"
          ],
          "name": "stdout"
        }
      ]
    },
    {
      "cell_type": "markdown",
      "metadata": {
        "id": "jsxeEAAov7Fy"
      },
      "source": [
        "Data is not so skewed"
      ]
    },
    {
      "cell_type": "markdown",
      "metadata": {
        "id": "FXCx9qcO2CGy"
      },
      "source": [
        "### 2.2. Ploting Data"
      ]
    },
    {
      "cell_type": "markdown",
      "metadata": {
        "id": "VKJpiYeB2Tuf"
      },
      "source": [
        "For ploting the data we should set time as our index"
      ]
    },
    {
      "cell_type": "code",
      "metadata": {
        "id": "SR_Io7i82khf",
        "outputId": "730d9e5f-0b63-4de4-9c7e-95dc07a5dc61",
        "colab": {
          "base_uri": "https://localhost:8080/",
          "height": 225
        }
      },
      "source": [
        "data['time'] = pd.to_datetime(data['time'])\n",
        "data.index = data['time']\n",
        "data.head()"
      ],
      "execution_count": 228,
      "outputs": [
        {
          "output_type": "execute_result",
          "data": {
            "text/html": [
              "<div>\n",
              "<style scoped>\n",
              "    .dataframe tbody tr th:only-of-type {\n",
              "        vertical-align: middle;\n",
              "    }\n",
              "\n",
              "    .dataframe tbody tr th {\n",
              "        vertical-align: top;\n",
              "    }\n",
              "\n",
              "    .dataframe thead th {\n",
              "        text-align: right;\n",
              "    }\n",
              "</style>\n",
              "<table border=\"1\" class=\"dataframe\">\n",
              "  <thead>\n",
              "    <tr style=\"text-align: right;\">\n",
              "      <th></th>\n",
              "      <th>time</th>\n",
              "      <th>open</th>\n",
              "      <th>high</th>\n",
              "      <th>low</th>\n",
              "      <th>close</th>\n",
              "      <th>MA</th>\n",
              "      <th>MA.1</th>\n",
              "      <th>MA.2</th>\n",
              "      <th>MA.3</th>\n",
              "      <th>RSI</th>\n",
              "      <th>K</th>\n",
              "      <th>D</th>\n",
              "    </tr>\n",
              "    <tr>\n",
              "      <th>time</th>\n",
              "      <th></th>\n",
              "      <th></th>\n",
              "      <th></th>\n",
              "      <th></th>\n",
              "      <th></th>\n",
              "      <th></th>\n",
              "      <th></th>\n",
              "      <th></th>\n",
              "      <th></th>\n",
              "      <th></th>\n",
              "      <th></th>\n",
              "      <th></th>\n",
              "    </tr>\n",
              "  </thead>\n",
              "  <tbody>\n",
              "    <tr>\n",
              "      <th>2018-09-30 08:00:00+00:00</th>\n",
              "      <td>2018-09-30 08:00:00+00:00</td>\n",
              "      <td>6584.4</td>\n",
              "      <td>6662.8</td>\n",
              "      <td>6576.000000</td>\n",
              "      <td>6631.7</td>\n",
              "      <td>6643.026619</td>\n",
              "      <td>6591.908333</td>\n",
              "      <td>6579.169969</td>\n",
              "      <td>6599.998605</td>\n",
              "      <td>54.260034</td>\n",
              "      <td>30.767330</td>\n",
              "      <td>28.144363</td>\n",
              "    </tr>\n",
              "    <tr>\n",
              "      <th>2018-09-30 12:00:00+00:00</th>\n",
              "      <td>2018-09-30 12:00:00+00:00</td>\n",
              "      <td>6633.9</td>\n",
              "      <td>6658.0</td>\n",
              "      <td>6586.300000</td>\n",
              "      <td>6608.8</td>\n",
              "      <td>6641.422119</td>\n",
              "      <td>6589.572333</td>\n",
              "      <td>6591.397894</td>\n",
              "      <td>6601.758884</td>\n",
              "      <td>51.951369</td>\n",
              "      <td>42.248441</td>\n",
              "      <td>33.161281</td>\n",
              "    </tr>\n",
              "    <tr>\n",
              "      <th>2018-09-30 16:00:00+00:00</th>\n",
              "      <td>2018-09-30 16:00:00+00:00</td>\n",
              "      <td>6607.4</td>\n",
              "      <td>6635.0</td>\n",
              "      <td>6589.919971</td>\n",
              "      <td>6606.0</td>\n",
              "      <td>6639.276619</td>\n",
              "      <td>6588.290333</td>\n",
              "      <td>6598.953449</td>\n",
              "      <td>6602.607107</td>\n",
              "      <td>51.661929</td>\n",
              "      <td>52.574710</td>\n",
              "      <td>41.863494</td>\n",
              "    </tr>\n",
              "    <tr>\n",
              "      <th>2018-09-30 20:00:00+00:00</th>\n",
              "      <td>2018-09-30 20:00:00+00:00</td>\n",
              "      <td>6606.0</td>\n",
              "      <td>6645.0</td>\n",
              "      <td>6529.600000</td>\n",
              "      <td>6622.4</td>\n",
              "      <td>6637.119119</td>\n",
              "      <td>6586.918333</td>\n",
              "      <td>6602.553449</td>\n",
              "      <td>6606.565686</td>\n",
              "      <td>53.302977</td>\n",
              "      <td>60.988082</td>\n",
              "      <td>51.937078</td>\n",
              "    </tr>\n",
              "    <tr>\n",
              "      <th>2018-10-01 00:00:00+00:00</th>\n",
              "      <td>2018-10-01 00:00:00+00:00</td>\n",
              "      <td>6622.3</td>\n",
              "      <td>6660.0</td>\n",
              "      <td>6621.800000</td>\n",
              "      <td>6645.0</td>\n",
              "      <td>6634.859119</td>\n",
              "      <td>6585.226333</td>\n",
              "      <td>6607.353449</td>\n",
              "      <td>6614.252549</td>\n",
              "      <td>55.542848</td>\n",
              "      <td>74.836135</td>\n",
              "      <td>62.799643</td>\n",
              "    </tr>\n",
              "  </tbody>\n",
              "</table>\n",
              "</div>"
            ],
            "text/plain": [
              "                                               time  ...          D\n",
              "time                                                 ...           \n",
              "2018-09-30 08:00:00+00:00 2018-09-30 08:00:00+00:00  ...  28.144363\n",
              "2018-09-30 12:00:00+00:00 2018-09-30 12:00:00+00:00  ...  33.161281\n",
              "2018-09-30 16:00:00+00:00 2018-09-30 16:00:00+00:00  ...  41.863494\n",
              "2018-09-30 20:00:00+00:00 2018-09-30 20:00:00+00:00  ...  51.937078\n",
              "2018-10-01 00:00:00+00:00 2018-10-01 00:00:00+00:00  ...  62.799643\n",
              "\n",
              "[5 rows x 12 columns]"
            ]
          },
          "metadata": {
            "tags": []
          },
          "execution_count": 228
        }
      ]
    },
    {
      "cell_type": "code",
      "metadata": {
        "id": "rb3YP5-b2zyE"
      },
      "source": [
        "data = data.drop('time', axis=1)"
      ],
      "execution_count": 229,
      "outputs": []
    },
    {
      "cell_type": "code",
      "metadata": {
        "id": "-YcwCm6U289h",
        "outputId": "69ba54cd-e0d5-4169-e141-e755583f8dda",
        "colab": {
          "base_uri": "https://localhost:8080/",
          "height": 508
        }
      },
      "source": [
        "plt.plot(data['close'], label='close')\n",
        "plt.plot(data['MA'], label='MA')\n",
        "plt.xlabel('Date time, 4h chart')\n",
        "plt.ylabel('BTC price in USD')\n",
        "plt.legend()\n",
        "plt.show()"
      ],
      "execution_count": 230,
      "outputs": [
        {
          "output_type": "display_data",
          "data": {
            "image/png": "[encoded data removed]",
            "text/plain": [
              "<Figure size 800x550 with 1 Axes>"
            ]
          },
          "metadata": {
            "tags": []
          }
        }
      ]
    },
    {
      "cell_type": "markdown",
      "metadata": {
        "id": "DvfQzpXAzsfK"
      },
      "source": [
        "## 3. Preparation for Neural Network"
      ]
    },
    {
      "cell_type": "markdown",
      "metadata": {
        "id": "8Vpe-rfhKm7-"
      },
      "source": [
        "### 3.1. Story telling - problem description"
      ]
    },
    {
      "cell_type": "markdown",
      "metadata": {
        "id": "cbYVbv1r_Hmb"
      },
      "source": [
        "We stil have no target variable so we should create it. We will build a model that will predict if we should Buy, Hold or Sell, so we have 3 States to predict.<br>\n",
        "1. Buy if the price will change more then +0.5%\n",
        "2. Hold if the price will not change more then -+0.5%\n",
        "3. Sell if the price will drop more then -0.5%\n"
      ]
    },
    {
      "cell_type": "markdown",
      "metadata": {
        "id": "q5cnkWKoAIee"
      },
      "source": [
        "We are going to calculate or target wariable based on 'close' price."
      ]
    },
    {
      "cell_type": "markdown",
      "metadata": {
        "id": "DjUErqDKANac"
      },
      "source": [
        "![BTC snipping.png](data:image/png;base64,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)"
      ]
    },
    {
      "cell_type": "markdown",
      "metadata": {
        "id": "T7SXX4G4Adx1"
      },
      "source": [
        "So if we have this data we are going to calculate our target price by subtraction of **close[1] - close[0]** and wwe are going to put this value in data[0] labaled as future price. <br>\n",
        "In this case the calculation will be folowing 6608.8 - 6631.7 = -22,9<br>\n",
        "So we are going to have a row with this values:"
      ]
    },
    {
      "cell_type": "markdown",
      "metadata": {
        "id": "r3G9idouBiuw"
      },
      "source": [
        "time\topen\thigh\tlow\tclose\t<br>\n",
        "0\t2018-09-30T08:00:00Z\t6584.4\t6662.8\t6576.000000\t6631.7\n",
        "\n"
      ]
    },
    {
      "cell_type": "markdown",
      "metadata": {
        "id": "sC1CkHBFB51-"
      },
      "source": [
        "<table>\n",
        "  <th>\n",
        "    <tr>\n",
        "      <td>time</td>\n",
        "      <td>open</td>\n",
        "      <td>high</td>\n",
        "      <td>low</td>\n",
        "      <td>close</td>\n",
        "      <td>prediction</td>\n",
        "      <td>prediction_precentage</td>\n",
        "      <td>action</td>\n",
        "    </tr>\n",
        "  </th>\n",
        "  <tr>\n",
        "    <td>2018-09-30T08:00:00Z</td>\n",
        "    <td>6584.4</td>\n",
        "    <td>6662.8</td>\n",
        "    <td>6576.000000</td>\n",
        "    <td>6631.7</td>\n",
        "    <td>-22.9</td>\n",
        "    <td>-0.00345</td>\n",
        "    <td>1</td>\n",
        "  </tr>\n",
        "</table>"
      ]
    },
    {
      "cell_type": "markdown",
      "metadata": {
        "id": "hYL_rpsTDt_Q"
      },
      "source": [
        "In this case precentage change is -0.345 which means we take no action."
      ]
    },
    {
      "cell_type": "markdown",
      "metadata": {
        "id": "nmp9_4oFKweP"
      },
      "source": [
        "### 3.2. Generation target varaiable"
      ]
    },
    {
      "cell_type": "code",
      "metadata": {
        "id": "_3m2mH-GFcCC",
        "outputId": "9365e928-5258-433a-c6b3-295a9b566b63",
        "colab": {
          "base_uri": "https://localhost:8080/",
          "height": 225
        }
      },
      "source": [
        "data['prediction'] = 0.0\n",
        "data['prediction_precentage'] = 0.0\n",
        "data['action'] = 0\n",
        "data.head()"
      ],
      "execution_count": 231,
      "outputs": [
        {
          "output_type": "execute_result",
          "data": {
            "text/html": [
              "<div>\n",
              "<style scoped>\n",
              "    .dataframe tbody tr th:only-of-type {\n",
              "        vertical-align: middle;\n",
              "    }\n",
              "\n",
              "    .dataframe tbody tr th {\n",
              "        vertical-align: top;\n",
              "    }\n",
              "\n",
              "    .dataframe thead th {\n",
              "        text-align: right;\n",
              "    }\n",
              "</style>\n",
              "<table border=\"1\" class=\"dataframe\">\n",
              "  <thead>\n",
              "    <tr style=\"text-align: right;\">\n",
              "      <th></th>\n",
              "      <th>open</th>\n",
              "      <th>high</th>\n",
              "      <th>low</th>\n",
              "      <th>close</th>\n",
              "      <th>MA</th>\n",
              "      <th>MA.1</th>\n",
              "      <th>MA.2</th>\n",
              "      <th>MA.3</th>\n",
              "      <th>RSI</th>\n",
              "      <th>K</th>\n",
              "      <th>D</th>\n",
              "      <th>prediction</th>\n",
              "      <th>prediction_precentage</th>\n",
              "      <th>action</th>\n",
              "    </tr>\n",
              "    <tr>\n",
              "      <th>time</th>\n",
              "      <th></th>\n",
              "      <th></th>\n",
              "      <th></th>\n",
              "      <th></th>\n",
              "      <th></th>\n",
              "      <th></th>\n",
              "      <th></th>\n",
              "      <th></th>\n",
              "      <th></th>\n",
              "      <th></th>\n",
              "      <th></th>\n",
              "      <th></th>\n",
              "      <th></th>\n",
              "      <th></th>\n",
              "    </tr>\n",
              "  </thead>\n",
              "  <tbody>\n",
              "    <tr>\n",
              "      <th>2018-09-30 08:00:00+00:00</th>\n",
              "      <td>6584.4</td>\n",
              "      <td>6662.8</td>\n",
              "      <td>6576.000000</td>\n",
              "      <td>6631.7</td>\n",
              "      <td>6643.026619</td>\n",
              "      <td>6591.908333</td>\n",
              "      <td>6579.169969</td>\n",
              "      <td>6599.998605</td>\n",
              "      <td>54.260034</td>\n",
              "      <td>30.767330</td>\n",
              "      <td>28.144363</td>\n",
              "      <td>0.0</td>\n",
              "      <td>0.0</td>\n",
              "      <td>0</td>\n",
              "    </tr>\n",
              "    <tr>\n",
              "      <th>2018-09-30 12:00:00+00:00</th>\n",
              "      <td>6633.9</td>\n",
              "      <td>6658.0</td>\n",
              "      <td>6586.300000</td>\n",
              "      <td>6608.8</td>\n",
              "      <td>6641.422119</td>\n",
              "      <td>6589.572333</td>\n",
              "      <td>6591.397894</td>\n",
              "      <td>6601.758884</td>\n",
              "      <td>51.951369</td>\n",
              "      <td>42.248441</td>\n",
              "      <td>33.161281</td>\n",
              "      <td>0.0</td>\n",
              "      <td>0.0</td>\n",
              "      <td>0</td>\n",
              "    </tr>\n",
              "    <tr>\n",
              "      <th>2018-09-30 16:00:00+00:00</th>\n",
              "      <td>6607.4</td>\n",
              "      <td>6635.0</td>\n",
              "      <td>6589.919971</td>\n",
              "      <td>6606.0</td>\n",
              "      <td>6639.276619</td>\n",
              "      <td>6588.290333</td>\n",
              "      <td>6598.953449</td>\n",
              "      <td>6602.607107</td>\n",
              "      <td>51.661929</td>\n",
              "      <td>52.574710</td>\n",
              "      <td>41.863494</td>\n",
              "      <td>0.0</td>\n",
              "      <td>0.0</td>\n",
              "      <td>0</td>\n",
              "    </tr>\n",
              "    <tr>\n",
              "      <th>2018-09-30 20:00:00+00:00</th>\n",
              "      <td>6606.0</td>\n",
              "      <td>6645.0</td>\n",
              "      <td>6529.600000</td>\n",
              "      <td>6622.4</td>\n",
              "      <td>6637.119119</td>\n",
              "      <td>6586.918333</td>\n",
              "      <td>6602.553449</td>\n",
              "      <td>6606.565686</td>\n",
              "      <td>53.302977</td>\n",
              "      <td>60.988082</td>\n",
              "      <td>51.937078</td>\n",
              "      <td>0.0</td>\n",
              "      <td>0.0</td>\n",
              "      <td>0</td>\n",
              "    </tr>\n",
              "    <tr>\n",
              "      <th>2018-10-01 00:00:00+00:00</th>\n",
              "      <td>6622.3</td>\n",
              "      <td>6660.0</td>\n",
              "      <td>6621.800000</td>\n",
              "      <td>6645.0</td>\n",
              "      <td>6634.859119</td>\n",
              "      <td>6585.226333</td>\n",
              "      <td>6607.353449</td>\n",
              "      <td>6614.252549</td>\n",
              "      <td>55.542848</td>\n",
              "      <td>74.836135</td>\n",
              "      <td>62.799643</td>\n",
              "      <td>0.0</td>\n",
              "      <td>0.0</td>\n",
              "      <td>0</td>\n",
              "    </tr>\n",
              "  </tbody>\n",
              "</table>\n",
              "</div>"
            ],
            "text/plain": [
              "                             open    high  ...  prediction_precentage  action\n",
              "time                                       ...                               \n",
              "2018-09-30 08:00:00+00:00  6584.4  6662.8  ...                    0.0       0\n",
              "2018-09-30 12:00:00+00:00  6633.9  6658.0  ...                    0.0       0\n",
              "2018-09-30 16:00:00+00:00  6607.4  6635.0  ...                    0.0       0\n",
              "2018-09-30 20:00:00+00:00  6606.0  6645.0  ...                    0.0       0\n",
              "2018-10-01 00:00:00+00:00  6622.3  6660.0  ...                    0.0       0\n",
              "\n",
              "[5 rows x 14 columns]"
            ]
          },
          "metadata": {
            "tags": []
          },
          "execution_count": 231
        }
      ]
    },
    {
      "cell_type": "code",
      "metadata": {
        "id": "vv8bc_m8_Wkk",
        "outputId": "de92d52e-f37a-4eb6-c2fc-06fc9ba54898",
        "colab": {
          "base_uri": "https://localhost:8080/",
          "height": 105
        }
      },
      "source": [
        "# making column 'predict'\n",
        "end = data['close'].count()\n",
        "for i in range(0, end):\n",
        "  if i != 0:\n",
        "    prediction = data['close'][i] - data['close'][i-1]\n",
        "    #writing prediction price in 'prediciton' column\n",
        "    data['prediction'][i-1] = prediction"
      ],
      "execution_count": 232,
      "outputs": [
        {
          "output_type": "stream",
          "text": [
            "/usr/local/lib/python3.6/dist-packages/ipykernel_launcher.py:7: SettingWithCopyWarning: \n",
            "A value is trying to be set on a copy of a slice from a DataFrame\n",
            "\n",
            "See the caveats in the documentation: https://pandas.pydata.org/pandas-docs/stable/user_guide/indexing.html#returning-a-view-versus-a-copy\n",
            "  import sys\n"
          ],
          "name": "stderr"
        }
      ]
    },
    {
      "cell_type": "code",
      "metadata": {
        "id": "OUyGIY-nGw-P",
        "outputId": "5ca0cc16-1938-4015-bc95-66484d5f17a6",
        "colab": {
          "base_uri": "https://localhost:8080/",
          "height": 105
        }
      },
      "source": [
        "# making column 'prediction_precentage'\n",
        "end = data['close'].count()\n",
        "for i in range(0, end):\n",
        "    #calculating % change\n",
        "    prediction_precentage = data['prediction'][i] / data['close'][i]\n",
        "    #writing predictionprecentage in column 'prediction_precentage\n",
        "    data['prediction_precentage'][i] = prediction_precentage"
      ],
      "execution_count": 233,
      "outputs": [
        {
          "output_type": "stream",
          "text": [
            "/usr/local/lib/python3.6/dist-packages/ipykernel_launcher.py:7: SettingWithCopyWarning: \n",
            "A value is trying to be set on a copy of a slice from a DataFrame\n",
            "\n",
            "See the caveats in the documentation: https://pandas.pydata.org/pandas-docs/stable/user_guide/indexing.html#returning-a-view-versus-a-copy\n",
            "  import sys\n"
          ],
          "name": "stderr"
        }
      ]
    },
    {
      "cell_type": "code",
      "metadata": {
        "id": "p236jpjUICjt",
        "outputId": "f0650744-1c94-4fe4-a357-320b47f5ef41",
        "colab": {
          "base_uri": "https://localhost:8080/",
          "height": 281
        }
      },
      "source": [
        "end = data['close'].count()\n",
        "for i in range(0, end):\n",
        "  if data['prediction_precentage'][i] >= 0.005:\n",
        "    #print(data['prediction_precentage'][i]*100, ' - ', ' 0')\n",
        "    data['action'][i] = 0\n",
        "  elif data['prediction_precentage'][i] <= -0.005:\n",
        "    #print(data['prediction_precentage'][i]*100, ' - ', ' 2')\n",
        "    data['action'][i] = 2\n",
        "  else:\n",
        "    #print(data['prediction_precentage'][i]*100, ' - ', ' 1')\n",
        "    data['action'][i] = 1"
      ],
      "execution_count": 234,
      "outputs": [
        {
          "output_type": "stream",
          "text": [
            "/usr/local/lib/python3.6/dist-packages/ipykernel_launcher.py:11: SettingWithCopyWarning: \n",
            "A value is trying to be set on a copy of a slice from a DataFrame\n",
            "\n",
            "See the caveats in the documentation: https://pandas.pydata.org/pandas-docs/stable/user_guide/indexing.html#returning-a-view-versus-a-copy\n",
            "  # This is added back by InteractiveShellApp.init_path()\n",
            "/usr/local/lib/python3.6/dist-packages/ipykernel_launcher.py:8: SettingWithCopyWarning: \n",
            "A value is trying to be set on a copy of a slice from a DataFrame\n",
            "\n",
            "See the caveats in the documentation: https://pandas.pydata.org/pandas-docs/stable/user_guide/indexing.html#returning-a-view-versus-a-copy\n",
            "  \n",
            "/usr/local/lib/python3.6/dist-packages/ipykernel_launcher.py:5: SettingWithCopyWarning: \n",
            "A value is trying to be set on a copy of a slice from a DataFrame\n",
            "\n",
            "See the caveats in the documentation: https://pandas.pydata.org/pandas-docs/stable/user_guide/indexing.html#returning-a-view-versus-a-copy\n",
            "  \"\"\"\n"
          ],
          "name": "stderr"
        }
      ]
    },
    {
      "cell_type": "markdown",
      "metadata": {
        "id": "mjFH7qYIMPjQ"
      },
      "source": [
        "## 4. Data preprocesion"
      ]
    },
    {
      "cell_type": "markdown",
      "metadata": {
        "id": "2BxtiXpnMUGM"
      },
      "source": [
        "### 4.1. Removing last row(invalid)"
      ]
    },
    {
      "cell_type": "code",
      "metadata": {
        "id": "v0f4Bus9KV1u",
        "outputId": "4a0ec770-69fc-409a-81ef-8ccd52daded8",
        "colab": {
          "base_uri": "https://localhost:8080/",
          "height": 225
        }
      },
      "source": [
        "data.tail()"
      ],
      "execution_count": 235,
      "outputs": [
        {
          "output_type": "execute_result",
          "data": {
            "text/html": [
              "<div>\n",
              "<style scoped>\n",
              "    .dataframe tbody tr th:only-of-type {\n",
              "        vertical-align: middle;\n",
              "    }\n",
              "\n",
              "    .dataframe tbody tr th {\n",
              "        vertical-align: top;\n",
              "    }\n",
              "\n",
              "    .dataframe thead th {\n",
              "        text-align: right;\n",
              "    }\n",
              "</style>\n",
              "<table border=\"1\" class=\"dataframe\">\n",
              "  <thead>\n",
              "    <tr style=\"text-align: right;\">\n",
              "      <th></th>\n",
              "      <th>open</th>\n",
              "      <th>high</th>\n",
              "      <th>low</th>\n",
              "      <th>close</th>\n",
              "      <th>MA</th>\n",
              "      <th>MA.1</th>\n",
              "      <th>MA.2</th>\n",
              "      <th>MA.3</th>\n",
              "      <th>RSI</th>\n",
              "      <th>K</th>\n",
              "      <th>D</th>\n",
              "      <th>prediction</th>\n",
              "      <th>prediction_precentage</th>\n",
              "      <th>action</th>\n",
              "    </tr>\n",
              "    <tr>\n",
              "      <th>time</th>\n",
              "      <th></th>\n",
              "      <th></th>\n",
              "      <th></th>\n",
              "      <th></th>\n",
              "      <th></th>\n",
              "      <th></th>\n",
              "      <th></th>\n",
              "      <th></th>\n",
              "      <th></th>\n",
              "      <th></th>\n",
              "      <th></th>\n",
              "      <th></th>\n",
              "      <th></th>\n",
              "      <th></th>\n",
              "    </tr>\n",
              "  </thead>\n",
              "  <tbody>\n",
              "    <tr>\n",
              "      <th>2020-05-20 00:00:00+00:00</th>\n",
              "      <td>9770.10000</td>\n",
              "      <td>9791.300000</td>\n",
              "      <td>9710.1</td>\n",
              "      <td>9720.3</td>\n",
              "      <td>8493.2193</td>\n",
              "      <td>9407.103835</td>\n",
              "      <td>9667.559912</td>\n",
              "      <td>9683.644710</td>\n",
              "      <td>55.356962</td>\n",
              "      <td>40.616695</td>\n",
              "      <td>36.944582</td>\n",
              "      <td>39.0</td>\n",
              "      <td>0.004012</td>\n",
              "      <td>1</td>\n",
              "    </tr>\n",
              "    <tr>\n",
              "      <th>2020-05-20 04:00:00+00:00</th>\n",
              "      <td>9718.00000</td>\n",
              "      <td>9842.700000</td>\n",
              "      <td>9640.1</td>\n",
              "      <td>9759.3</td>\n",
              "      <td>8506.4423</td>\n",
              "      <td>9431.187835</td>\n",
              "      <td>9674.648800</td>\n",
              "      <td>9698.775768</td>\n",
              "      <td>56.810097</td>\n",
              "      <td>49.966842</td>\n",
              "      <td>42.564646</td>\n",
              "      <td>-37.4</td>\n",
              "      <td>-0.003832</td>\n",
              "      <td>1</td>\n",
              "    </tr>\n",
              "    <tr>\n",
              "      <th>2020-05-20 08:00:00+00:00</th>\n",
              "      <td>9759.32705</td>\n",
              "      <td>9795.902718</td>\n",
              "      <td>9712.5</td>\n",
              "      <td>9721.9</td>\n",
              "      <td>8519.5323</td>\n",
              "      <td>9451.351835</td>\n",
              "      <td>9675.434894</td>\n",
              "      <td>9703.400614</td>\n",
              "      <td>54.962487</td>\n",
              "      <td>47.801231</td>\n",
              "      <td>46.128256</td>\n",
              "      <td>-321.6</td>\n",
              "      <td>-0.033080</td>\n",
              "      <td>2</td>\n",
              "    </tr>\n",
              "    <tr>\n",
              "      <th>2020-05-20 12:00:00+00:00</th>\n",
              "      <td>9721.90000</td>\n",
              "      <td>9794.116549</td>\n",
              "      <td>9301.0</td>\n",
              "      <td>9400.3</td>\n",
              "      <td>8531.2273</td>\n",
              "      <td>9466.363835</td>\n",
              "      <td>9661.879338</td>\n",
              "      <td>9642.780491</td>\n",
              "      <td>42.240768</td>\n",
              "      <td>33.877965</td>\n",
              "      <td>43.882013</td>\n",
              "      <td>86.1</td>\n",
              "      <td>0.009159</td>\n",
              "      <td>0</td>\n",
              "    </tr>\n",
              "    <tr>\n",
              "      <th>2020-05-20 16:00:00+00:00</th>\n",
              "      <td>9400.30000</td>\n",
              "      <td>9533.500000</td>\n",
              "      <td>9334.9</td>\n",
              "      <td>9486.4</td>\n",
              "      <td>8543.1843</td>\n",
              "      <td>9480.155835</td>\n",
              "      <td>9654.479338</td>\n",
              "      <td>9611.504393</td>\n",
              "      <td>45.854169</td>\n",
              "      <td>24.582406</td>\n",
              "      <td>35.420534</td>\n",
              "      <td>0.0</td>\n",
              "      <td>0.000000</td>\n",
              "      <td>1</td>\n",
              "    </tr>\n",
              "  </tbody>\n",
              "</table>\n",
              "</div>"
            ],
            "text/plain": [
              "                                 open  ...  action\n",
              "time                                   ...        \n",
              "2020-05-20 00:00:00+00:00  9770.10000  ...       1\n",
              "2020-05-20 04:00:00+00:00  9718.00000  ...       1\n",
              "2020-05-20 08:00:00+00:00  9759.32705  ...       2\n",
              "2020-05-20 12:00:00+00:00  9721.90000  ...       0\n",
              "2020-05-20 16:00:00+00:00  9400.30000  ...       1\n",
              "\n",
              "[5 rows x 14 columns]"
            ]
          },
          "metadata": {
            "tags": []
          },
          "execution_count": 235
        }
      ]
    },
    {
      "cell_type": "markdown",
      "metadata": {
        "id": "GTeWU3vsK-Iq"
      },
      "source": [
        "Last value has no prediction so we will drop it."
      ]
    },
    {
      "cell_type": "code",
      "metadata": {
        "id": "_Pj5WzFOMESP",
        "outputId": "20a49b79-6410-4e47-f2fb-74baf01c2084",
        "colab": {
          "base_uri": "https://localhost:8080/",
          "height": 34
        }
      },
      "source": [
        "data.shape"
      ],
      "execution_count": 236,
      "outputs": [
        {
          "output_type": "execute_result",
          "data": {
            "text/plain": [
              "(3591, 14)"
            ]
          },
          "metadata": {
            "tags": []
          },
          "execution_count": 236
        }
      ]
    },
    {
      "cell_type": "code",
      "metadata": {
        "id": "b5Gh74mfLHhB"
      },
      "source": [
        "data = data[:-1]"
      ],
      "execution_count": 237,
      "outputs": []
    },
    {
      "cell_type": "code",
      "metadata": {
        "id": "O0KsgZvCL5h5",
        "outputId": "7dafb998-5a23-45b8-d7d7-163f1afbb4af",
        "colab": {
          "base_uri": "https://localhost:8080/",
          "height": 34
        }
      },
      "source": [
        "data.shape"
      ],
      "execution_count": 238,
      "outputs": [
        {
          "output_type": "execute_result",
          "data": {
            "text/plain": [
              "(3590, 14)"
            ]
          },
          "metadata": {
            "tags": []
          },
          "execution_count": 238
        }
      ]
    },
    {
      "cell_type": "markdown",
      "metadata": {
        "id": "EsqmsYxsM2sG"
      },
      "source": [
        "### 4.2. Spliting X and y"
      ]
    },
    {
      "cell_type": "code",
      "metadata": {
        "id": "IuTIE_iiMty5",
        "outputId": "16331632-76b7-48a5-e5d4-40d5c0b1a0fd",
        "colab": {
          "base_uri": "https://localhost:8080/",
          "height": 246
        }
      },
      "source": [
        " X = data[['open', 'high', 'low', 'close', 'MA', 'MA.1', 'MA.2', 'MA.3', 'RSI', 'K', 'D', 'prediction', 'prediction_precentage']].values\n",
        " X"
      ],
      "execution_count": 239,
      "outputs": [
        {
          "output_type": "execute_result",
          "data": {
            "text/plain": [
              "array([[ 6.58440000e+03,  6.66280000e+03,  6.57600000e+03, ...,\n",
              "         2.81443630e+01, -2.29000000e+01, -3.45311157e-03],\n",
              "       [ 6.63390000e+03,  6.65800000e+03,  6.58630000e+03, ...,\n",
              "         3.31612810e+01, -2.80000000e+00, -4.23677521e-04],\n",
              "       [ 6.60740000e+03,  6.63500000e+03,  6.58991997e+03, ...,\n",
              "         4.18634940e+01,  1.64000000e+01,  2.48259158e-03],\n",
              "       ...,\n",
              "       [ 9.71800000e+03,  9.84270000e+03,  9.64010000e+03, ...,\n",
              "         4.25646455e+01, -3.74000000e+01, -3.83224207e-03],\n",
              "       [ 9.75932705e+03,  9.79590272e+03,  9.71250000e+03, ...,\n",
              "         4.61282562e+01, -3.21600000e+02, -3.30799535e-02],\n",
              "       [ 9.72190000e+03,  9.79411655e+03,  9.30100000e+03, ...,\n",
              "         4.38820127e+01,  8.61000000e+01,  9.15928215e-03]])"
            ]
          },
          "metadata": {
            "tags": []
          },
          "execution_count": 239
        }
      ]
    },
    {
      "cell_type": "code",
      "metadata": {
        "id": "449tF-zZOGmq",
        "outputId": "a677a800-ee70-468a-9e3a-bdfd9a726f06",
        "colab": {
          "base_uri": "https://localhost:8080/",
          "height": 140
        }
      },
      "source": [
        "y = data[['action']].values\n",
        "y"
      ],
      "execution_count": 240,
      "outputs": [
        {
          "output_type": "execute_result",
          "data": {
            "text/plain": [
              "array([[1],\n",
              "       [1],\n",
              "       [1],\n",
              "       ...,\n",
              "       [1],\n",
              "       [2],\n",
              "       [0]])"
            ]
          },
          "metadata": {
            "tags": []
          },
          "execution_count": 240
        }
      ]
    },
    {
      "cell_type": "code",
      "metadata": {
        "id": "JE7ONM7GONe9",
        "outputId": "162b93f9-f80c-4711-fb11-acaae39ee0b5",
        "colab": {
          "base_uri": "https://localhost:8080/",
          "height": 34
        }
      },
      "source": [
        "X.shape"
      ],
      "execution_count": 241,
      "outputs": [
        {
          "output_type": "execute_result",
          "data": {
            "text/plain": [
              "(3590, 13)"
            ]
          },
          "metadata": {
            "tags": []
          },
          "execution_count": 241
        }
      ]
    },
    {
      "cell_type": "code",
      "metadata": {
        "id": "850Wc0WIO5tQ",
        "outputId": "b87113a2-694d-4536-e05b-a39e8fd6df48",
        "colab": {
          "base_uri": "https://localhost:8080/",
          "height": 34
        }
      },
      "source": [
        "y.shape"
      ],
      "execution_count": 242,
      "outputs": [
        {
          "output_type": "execute_result",
          "data": {
            "text/plain": [
              "(3590, 1)"
            ]
          },
          "metadata": {
            "tags": []
          },
          "execution_count": 242
        }
      ]
    },
    {
      "cell_type": "markdown",
      "metadata": {
        "id": "7ZjOibQePJlA"
      },
      "source": [
        "### 4.3. Spliting traning and testing data"
      ]
    },
    {
      "cell_type": "code",
      "metadata": {
        "id": "AzOO-OWxO_rL"
      },
      "source": [
        "X_train, X_test, y_train, y_test = train_test_split(X, y, test_size=0.2)"
      ],
      "execution_count": 243,
      "outputs": []
    },
    {
      "cell_type": "code",
      "metadata": {
        "id": "RsQsBc4kPfXW",
        "outputId": "feea378a-9539-407f-8712-f8a8ffb957df",
        "colab": {
          "base_uri": "https://localhost:8080/",
          "height": 34
        }
      },
      "source": [
        "X_train.shape"
      ],
      "execution_count": 244,
      "outputs": [
        {
          "output_type": "execute_result",
          "data": {
            "text/plain": [
              "(2872, 13)"
            ]
          },
          "metadata": {
            "tags": []
          },
          "execution_count": 244
        }
      ]
    },
    {
      "cell_type": "code",
      "metadata": {
        "id": "C1OCY90IPhHH",
        "outputId": "d38f874a-4a5c-4d91-9184-d95df4cc80a1",
        "colab": {
          "base_uri": "https://localhost:8080/",
          "height": 34
        }
      },
      "source": [
        "y_train.shape"
      ],
      "execution_count": 245,
      "outputs": [
        {
          "output_type": "execute_result",
          "data": {
            "text/plain": [
              "(2872, 1)"
            ]
          },
          "metadata": {
            "tags": []
          },
          "execution_count": 245
        }
      ]
    },
    {
      "cell_type": "code",
      "metadata": {
        "id": "2jrPUJbmPkIk",
        "outputId": "6c10723e-aee2-4a87-ba29-7d9c335e8271",
        "colab": {
          "base_uri": "https://localhost:8080/",
          "height": 34
        }
      },
      "source": [
        "X_test.shape"
      ],
      "execution_count": 246,
      "outputs": [
        {
          "output_type": "execute_result",
          "data": {
            "text/plain": [
              "(718, 13)"
            ]
          },
          "metadata": {
            "tags": []
          },
          "execution_count": 246
        }
      ]
    },
    {
      "cell_type": "code",
      "metadata": {
        "id": "aOXgHy3SPmSr",
        "outputId": "68a31962-21a4-427b-dc15-256d814f66e2",
        "colab": {
          "base_uri": "https://localhost:8080/",
          "height": 34
        }
      },
      "source": [
        "y_test.shape"
      ],
      "execution_count": 247,
      "outputs": [
        {
          "output_type": "execute_result",
          "data": {
            "text/plain": [
              "(718, 1)"
            ]
          },
          "metadata": {
            "tags": []
          },
          "execution_count": 247
        }
      ]
    },
    {
      "cell_type": "markdown",
      "metadata": {
        "id": "5qQG047aQC9h"
      },
      "source": [
        "### 4.4. Data standardization"
      ]
    },
    {
      "cell_type": "code",
      "metadata": {
        "id": "_w06SW-VPnUL"
      },
      "source": [
        "scaler = StandardScaler()"
      ],
      "execution_count": 248,
      "outputs": []
    },
    {
      "cell_type": "code",
      "metadata": {
        "id": "ifDNCF1pQyMK"
      },
      "source": [
        "X_train = scaler.fit_transform(X_train)\n",
        "X_test = scaler.fit_transform(X_test)"
      ],
      "execution_count": 249,
      "outputs": []
    },
    {
      "cell_type": "markdown",
      "metadata": {
        "id": "BmmyHbvdSA2m"
      },
      "source": [
        "## 5. Building an Artificial Neural Network"
      ]
    }
  ]
}